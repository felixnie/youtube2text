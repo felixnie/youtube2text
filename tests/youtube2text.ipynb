{
 "cells": [
  {
   "cell_type": "markdown",
   "metadata": {},
   "source": [
    "# `youtube2text` Tutorial\n",
    "\n",
    "To use without installing `pip install youtube2text`, simply install the dependencies via `pip install -r requirements.txt`.\n",
    "\n",
    "To run on Google Colab: [![Open In Colab](https://colab.research.google.com/assets/colab-badge.svg)](https://colab.research.google.com/drive/15hrtyT2fJ_VEZo1VxurNbJA8VtDe1Lya?usp=sharing)"
   ]
  },
  {
   "cell_type": "code",
   "execution_count": 1,
   "metadata": {},
   "outputs": [],
   "source": [
    "%load_ext autoreload\n",
    "%autoreload 2\n",
    "\n",
    "import sys, os\n",
    "sys.path.append(\"../src\")\n",
    "\n",
    "from youtube2text import Youtube2Text"
   ]
  },
  {
   "cell_type": "code",
   "execution_count": 2,
   "metadata": {},
   "outputs": [],
   "source": [
    "vid = \"2Z3qrMfxlFM\"\n",
    "urlpath = f\"https://www.youtube.com/watch?v={vid}\"\n",
    "filepath = r\"./\" + vid\n",
    "audiofile = r\"./\" + vid + \".flac\"\n",
    "textfile = r\"./\" + vid + \".csv\""
   ]
  },
  {
   "cell_type": "code",
   "execution_count": 3,
   "metadata": {},
   "outputs": [
    {
     "name": "stdout",
     "output_type": "stream",
     "text": [
      "2025-01-03 13:41:03 | INFO | [youtube2text.py:41] Youtube2Text content file saved at path ./2Z3qrMfxlFM\n"
     ]
    }
   ],
   "source": [
    "converter = Youtube2Text(outputpath=filepath)"
   ]
  },
  {
   "cell_type": "markdown",
   "metadata": {},
   "source": [
    "### URL to Audio"
   ]
  },
  {
   "cell_type": "code",
   "execution_count": 4,
   "metadata": {},
   "outputs": [
    {
     "name": "stdout",
     "output_type": "stream",
     "text": [
      "2025-01-03 13:41:04 | INFO | [youtube2text.py:165] Audio at sample rate 16000\n"
     ]
    },
    {
     "name": "stderr",
     "output_type": "stream",
     "text": [
      "ffmpeg version 7.1 Copyright (c) 2000-2024 the FFmpeg developers\n",
      "  built with Apple clang version 16.0.0 (clang-1600.0.26.4)\n",
      "  configuration: --prefix=/opt/homebrew/Cellar/ffmpeg/7.1_4 --enable-shared --enable-pthreads --enable-version3 --cc=clang --host-cflags= --host-ldflags='-Wl,-ld_classic' --enable-ffplay --enable-gnutls --enable-gpl --enable-libaom --enable-libaribb24 --enable-libbluray --enable-libdav1d --enable-libharfbuzz --enable-libjxl --enable-libmp3lame --enable-libopus --enable-librav1e --enable-librist --enable-librubberband --enable-libsnappy --enable-libsrt --enable-libssh --enable-libsvtav1 --enable-libtesseract --enable-libtheora --enable-libvidstab --enable-libvmaf --enable-libvorbis --enable-libvpx --enable-libwebp --enable-libx264 --enable-libx265 --enable-libxml2 --enable-libxvid --enable-lzma --enable-libfontconfig --enable-libfreetype --enable-frei0r --enable-libass --enable-libopencore-amrnb --enable-libopencore-amrwb --enable-libopenjpeg --enable-libspeex --enable-libsoxr --enable-libzmq --enable-libzimg --disable-libjack --disable-indev=jack --enable-videotoolbox --enable-audiotoolbox --enable-neon\n",
      "  libavutil      59. 39.100 / 59. 39.100\n",
      "  libavcodec     61. 19.100 / 61. 19.100\n",
      "  libavformat    61.  7.100 / 61.  7.100\n",
      "  libavdevice    61.  3.100 / 61.  3.100\n",
      "  libavfilter    10.  4.100 / 10.  4.100\n",
      "  libswscale      8.  3.100 /  8.  3.100\n",
      "  libswresample   5.  3.100 /  5.  3.100\n",
      "  libpostproc    58.  3.100 / 58.  3.100\n",
      "Input #0, mov,mp4,m4a,3gp,3g2,mj2, from 'https://rr1---sn-o0nbb52v2-npoe.googlevideo.com/videoplayback?expire=1735904464&ei=cHh3Z4yFCsSMg8UP3KPPkAc&ip=137.132.26.75&id=o-AINd48ftCWT71pjAgD_9WecUaJJgVhIFcpfWckMz0uCW&itag=18&source=youtube&requiressl=yes&xpc=EgVo2aDSNQ%3D%3D&met=1735882864%2C&mh=k8&mm=31%2C29&mn=sn-o0nbb52v2-npoe%2Csn-npoeenez&ms=au%2Crdu&mv=m&mvi=1&pl=24&rms=au%2Cau&initcwndbps=4476250&bui=AfMhrI-KcMhje8IQbyRlDnhqZQwTMQ1HCUwd9jvLcfCHDhvrby5g42vVWbrTphIHGpbt8n_7tV0RdFMt&spc=x-caUALKoxMCebc-lkqfZQkY&vprv=1&mime=video%2Fmp4&rqh=1&cnr=14&ratebypass=yes&dur=969.293&lmt=1673253987083136&mt=1735882374&fvip=1&fexp=51326932%2C51335594%2C51371294&c=ANDROID_VR&txp=4438434&sparams=expire%2Cei%2Cip%2Cid%2Citag%2Csource%2Crequiressl%2Cxpc%2Cbui%2Cspc%2Cvprv%2Cmime%2Crqh%2Ccnr%2Cratebypass%2Cdur%2Clmt&sig=AJfQdSswRQIhAPXaaSYNvzZvDlcY6L_vmBgltmdKm5vnCB3LOetsiVnXAiAxU0bTpNNzzZlb1qNS2A6xrY4mSnFwceemDT3NUlpsKA%3D%3D&lsparams=met%2Cmh%2Cmm%2Cmn%2Cms%2Cmv%2Cmvi%2Cpl%2Crms%2Cinitcwndbps&lsig=AGluJ3MwRgIhANl2itNmWpDylN5G05dmHP3mWasJBWGug7mj7NRrsUh0AiEA4xWw5NGZW0yYpDQ7d37FxiAXMtimFcWGb--chNSoIKE%3D':\n",
      "  Metadata:\n",
      "    major_brand     : mp42\n",
      "    minor_version   : 0\n",
      "    compatible_brands: isommp42\n",
      "    creation_time   : 2023-01-09T08:11:24.000000Z\n",
      "  Duration: 00:16:09.25, start: 0.000000, bitrate: 404 kb/s\n",
      "  Stream #0:0[0x1](und): Video: h264 (Main) (avc1 / 0x31637661), yuv420p(tv, bt709, progressive), 640x360 [SAR 1:1 DAR 16:9], 272 kb/s, 29.97 fps, 29.97 tbr, 30k tbn (default)\n",
      "      Metadata:\n",
      "        creation_time   : 2023-01-09T08:11:24.000000Z\n",
      "        handler_name    : ISO Media file produced by Google Inc. Created on: 01/09/2023.\n",
      "        vendor_id       : [0][0][0][0]\n",
      "  Stream #0:1[0x2](eng): Audio: aac (LC) (mp4a / 0x6134706D), 44100 Hz, stereo, fltp, 128 kb/s (default)\n",
      "      Metadata:\n",
      "        creation_time   : 2023-01-09T08:11:24.000000Z\n",
      "        handler_name    : ISO Media file produced by Google Inc. Created on: 01/09/2023.\n",
      "        vendor_id       : [0][0][0][0]\n",
      "Stream mapping:\n",
      "  Stream #0:0 -> #0:0 (h264 (native) -> png (native))\n",
      "  Stream #0:1 -> #0:1 (aac (native) -> flac (native))\n",
      "Press [q] to stop, [?] for help\n",
      "[flac @ 0x133615f30] encoding as 24 bits-per-sample, more is considered experimental. Add -strict experimental if you want to encode more than 24 bits-per-sample\n",
      "[swscaler @ 0x138470000] [swscaler @ 0x128008000] No accelerated colorspace conversion found from yuv420p to rgb24.\n",
      "[swscaler @ 0x138470000] [swscaler @ 0x159590000] No accelerated colorspace conversion found from yuv420p to rgb24.\n",
      "[swscaler @ 0x138470000] [swscaler @ 0x1595a0000] No accelerated colorspace conversion found from yuv420p to rgb24.\n",
      "[swscaler @ 0x138470000] [swscaler @ 0x1595b0000] No accelerated colorspace conversion found from yuv420p to rgb24.\n",
      "[swscaler @ 0x138470000] [swscaler @ 0x1595c0000] No accelerated colorspace conversion found from yuv420p to rgb24.\n",
      "[swscaler @ 0x138470000] [swscaler @ 0x1595d0000] No accelerated colorspace conversion found from yuv420p to rgb24.\n",
      "[swscaler @ 0x138470000] [swscaler @ 0x1595e0000] No accelerated colorspace conversion found from yuv420p to rgb24.\n",
      "[swscaler @ 0x138470000] [swscaler @ 0x1595f0000] No accelerated colorspace conversion found from yuv420p to rgb24.\n",
      "[swscaler @ 0x138470000] [swscaler @ 0x159600000] No accelerated colorspace conversion found from yuv420p to rgb24.\n",
      "[flac @ 0x154b07e80] Video stream #0 is not an attached picture. Ignoring\n",
      "Output #0, flac, to 'pipe:':\n",
      "  Metadata:\n",
      "    major_brand     : mp42\n",
      "    minor_version   : 0\n",
      "    compatible_brands: isommp42\n",
      "    encoder         : Lavf61.7.100\n",
      "  Stream #0:0(und): Video: png, rgb24(pc, gbr/bt709/bt709, progressive), 640x360 [SAR 1:1 DAR 16:9], q=2-31, 200 kb/s, 29.97 fps, 29.97 tbn (default)\n",
      "      Metadata:\n",
      "        creation_time   : 2023-01-09T08:11:24.000000Z\n",
      "        handler_name    : ISO Media file produced by Google Inc. Created on: 01/09/2023.\n",
      "        vendor_id       : [0][0][0][0]\n",
      "        encoder         : Lavc61.19.100 png\n",
      "  Stream #0:1(eng): Audio: flac, 16000 Hz, stereo, s32 (24 bit), 128 kb/s (default)\n",
      "      Metadata:\n",
      "        creation_time   : 2023-01-09T08:11:24.000000Z\n",
      "        handler_name    : ISO Media file produced by Google Inc. Created on: 01/09/2023.\n",
      "        vendor_id       : [0][0][0][0]\n",
      "        encoder         : Lavc61.19.100 flac\n",
      "frame=28847 fps=278 q=-0.0 size=   38508KiB time=00:16:02.52 bitrate= 327.7kbits/s speed=9.27x    \r"
     ]
    },
    {
     "name": "stdout",
     "output_type": "stream",
     "text": [
      "2025-01-03 13:42:49 | INFO | [youtube2text.py:180] Download completed at ./2Z3qrMfxlFM.flac\n"
     ]
    },
    {
     "name": "stderr",
     "output_type": "stream",
     "text": [
      "[flac @ 0x154b07e80] unable to rewrite FLAC header.:16:07.13 bitrate= 329.1kbits/s speed=9.27x    \n",
      "[out#0/flac @ 0x154b07dc0] video:6970664KiB audio:39008KiB subtitle:0KiB other streams:0KiB global headers:0KiB muxing overhead: unknown\n",
      "frame=29048 fps=278 q=-0.0 Lsize=   39016KiB time=00:16:09.23 bitrate= 329.8kbits/s speed=9.27x    \n"
     ]
    }
   ],
   "source": [
    "# converter.url2audio(urlpath=urlpath)\n",
    "converter.url2audio(urlpath=urlpath, audiofile=audiofile)\n",
    "# converter.url2audio(urlpath=urlpath, audiofile=audiofile, audiosamplingrate=22000)"
   ]
  },
  {
   "cell_type": "markdown",
   "metadata": {},
   "source": [
    "### Audio to Text "
   ]
  },
  {
   "cell_type": "code",
   "execution_count": 5,
   "metadata": {},
   "outputs": [
    {
     "name": "stdout",
     "output_type": "stream",
     "text": [
      "2025-01-03 13:42:49 | INFO | [youtube2text.py:277] Audio -> Text: ./2Z3qrMfxlFM.flac\n",
      "2025-01-03 13:46:07 | INFO | [youtube2text.py:251] Output text file saved at ./2Z3qrMfxlFM.csv\n"
     ]
    }
   ],
   "source": [
    "converter.audio2text(audiofile=audiofile, textfile=textfile)"
   ]
  },
  {
   "cell_type": "markdown",
   "metadata": {},
   "source": [
    "### URL to Text"
   ]
  },
  {
   "cell_type": "code",
   "execution_count": 7,
   "metadata": {},
   "outputs": [
    {
     "ename": "TypeError",
     "evalue": "join() argument must be str, bytes, or os.PathLike object, not 'NoneType'",
     "output_type": "error",
     "traceback": [
      "\u001b[0;31m---------------------------------------------------------------------------\u001b[0m",
      "\u001b[0;31mTypeError\u001b[0m                                 Traceback (most recent call last)",
      "Cell \u001b[0;32mIn[7], line 1\u001b[0m\n\u001b[0;32m----> 1\u001b[0m \u001b[43mconverter\u001b[49m\u001b[38;5;241;43m.\u001b[39;49m\u001b[43murl2text\u001b[49m\u001b[43m(\u001b[49m\u001b[43murlpath\u001b[49m\u001b[38;5;241;43m=\u001b[39;49m\u001b[43murlpath\u001b[49m\u001b[43m,\u001b[49m\u001b[43m \u001b[49m\u001b[43moutfile\u001b[49m\u001b[38;5;241;43m=\u001b[39;49m\u001b[43mtextfile\u001b[49m\u001b[43m,\u001b[49m\u001b[43m \u001b[49m\u001b[43maudioformat\u001b[49m\u001b[38;5;241;43m=\u001b[39;49m\u001b[38;5;124;43m\"\u001b[39;49m\u001b[38;5;124;43mflac\u001b[39;49m\u001b[38;5;124;43m\"\u001b[39;49m\u001b[43m)\u001b[49m\n",
      "File \u001b[0;32m~/repos/yt/youtube2text/tests/../src/youtube2text/youtube2text.py:113\u001b[0m, in \u001b[0;36mYoutube2Text.url2text\u001b[0;34m(self, urlpath, outfile, audioformat, audiosamplingrate)\u001b[0m\n\u001b[1;32m    110\u001b[0m     audiofile \u001b[38;5;241m=\u001b[39m filename \u001b[38;5;241m+\u001b[39m \u001b[38;5;124m\"\u001b[39m\u001b[38;5;124m.\u001b[39m\u001b[38;5;124m\"\u001b[39m \u001b[38;5;241m+\u001b[39m \u001b[38;5;28mself\u001b[39m\u001b[38;5;241m.\u001b[39m__audioextension[\u001b[38;5;241m0\u001b[39m]\n\u001b[1;32m    111\u001b[0m     textfile \u001b[38;5;241m=\u001b[39m filename \u001b[38;5;241m+\u001b[39m \u001b[38;5;124m\"\u001b[39m\u001b[38;5;124m.\u001b[39m\u001b[38;5;124m\"\u001b[39m \u001b[38;5;241m+\u001b[39m \u001b[38;5;28mself\u001b[39m\u001b[38;5;241m.\u001b[39m__textextension\n\u001b[0;32m--> 113\u001b[0m audiofile \u001b[38;5;241m=\u001b[39m \u001b[38;5;28;43mself\u001b[39;49m\u001b[38;5;241;43m.\u001b[39;49m\u001b[43m__configurepath\u001b[49m\u001b[43m(\u001b[49m\u001b[43maudiofile\u001b[49m\u001b[43m,\u001b[49m\u001b[43m \u001b[49m\u001b[43moutfilepath\u001b[49m\u001b[43m,\u001b[49m\u001b[43m \u001b[49m\u001b[38;5;28;43mself\u001b[39;49m\u001b[38;5;241;43m.\u001b[39;49m\u001b[43maudiopath\u001b[49m\u001b[43m)\u001b[49m\n\u001b[1;32m    114\u001b[0m textfile \u001b[38;5;241m=\u001b[39m \u001b[38;5;28mself\u001b[39m\u001b[38;5;241m.\u001b[39m__configurepath(textfile, outfilepath, \u001b[38;5;28mself\u001b[39m\u001b[38;5;241m.\u001b[39mtextpath)\n\u001b[1;32m    116\u001b[0m \u001b[38;5;28mself\u001b[39m\u001b[38;5;241m.\u001b[39murl2audio(\n\u001b[1;32m    117\u001b[0m     urlpath, audiofile\u001b[38;5;241m=\u001b[39maudiofile, audiosamplingrate\u001b[38;5;241m=\u001b[39maudiosamplingrate\n\u001b[1;32m    118\u001b[0m )\n",
      "File \u001b[0;32m~/repos/yt/youtube2text/tests/../src/youtube2text/youtube2text.py:384\u001b[0m, in \u001b[0;36mYoutube2Text.__configurepath\u001b[0;34m(self, filename, designatedpath, fallbackpath)\u001b[0m\n\u001b[1;32m    382\u001b[0m         logger\u001b[38;5;241m.\u001b[39mwarning(\u001b[38;5;124mf\u001b[39m\u001b[38;5;124m'\u001b[39m\u001b[38;5;124m\"\u001b[39m\u001b[38;5;132;01m{\u001b[39;00mdesignatedpath\u001b[38;5;132;01m}\u001b[39;00m\u001b[38;5;124m\"\u001b[39m\u001b[38;5;124m not exist. Execution abort\u001b[39m\u001b[38;5;124m'\u001b[39m)\n\u001b[1;32m    383\u001b[0m     \u001b[38;5;28;01melse\u001b[39;00m:\n\u001b[0;32m--> 384\u001b[0m         \u001b[38;5;28;01mreturn\u001b[39;00m \u001b[43mos\u001b[49m\u001b[38;5;241;43m.\u001b[39;49m\u001b[43mpath\u001b[49m\u001b[38;5;241;43m.\u001b[39;49m\u001b[43mjoin\u001b[49m\u001b[43m(\u001b[49m\u001b[43mdesignatedpath\u001b[49m\u001b[43m,\u001b[49m\u001b[43m \u001b[49m\u001b[43mfilename\u001b[49m\u001b[43m)\u001b[49m\n\u001b[1;32m    385\u001b[0m \u001b[38;5;28;01melse\u001b[39;00m:\n\u001b[1;32m    386\u001b[0m     \u001b[38;5;28;01mreturn\u001b[39;00m os\u001b[38;5;241m.\u001b[39mpath\u001b[38;5;241m.\u001b[39mjoin(fallbackpath, filename)\n",
      "File \u001b[0;32m~/miniconda3/envs/yt/lib/python3.10/posixpath.py:90\u001b[0m, in \u001b[0;36mjoin\u001b[0;34m(a, *p)\u001b[0m\n\u001b[1;32m     88\u001b[0m             path \u001b[38;5;241m+\u001b[39m\u001b[38;5;241m=\u001b[39m sep \u001b[38;5;241m+\u001b[39m b\n\u001b[1;32m     89\u001b[0m \u001b[38;5;28;01mexcept\u001b[39;00m (\u001b[38;5;167;01mTypeError\u001b[39;00m, \u001b[38;5;167;01mAttributeError\u001b[39;00m, \u001b[38;5;167;01mBytesWarning\u001b[39;00m):\n\u001b[0;32m---> 90\u001b[0m     \u001b[43mgenericpath\u001b[49m\u001b[38;5;241;43m.\u001b[39;49m\u001b[43m_check_arg_types\u001b[49m\u001b[43m(\u001b[49m\u001b[38;5;124;43m'\u001b[39;49m\u001b[38;5;124;43mjoin\u001b[39;49m\u001b[38;5;124;43m'\u001b[39;49m\u001b[43m,\u001b[49m\u001b[43m \u001b[49m\u001b[43ma\u001b[49m\u001b[43m,\u001b[49m\u001b[43m \u001b[49m\u001b[38;5;241;43m*\u001b[39;49m\u001b[43mp\u001b[49m\u001b[43m)\u001b[49m\n\u001b[1;32m     91\u001b[0m     \u001b[38;5;28;01mraise\u001b[39;00m\n\u001b[1;32m     92\u001b[0m \u001b[38;5;28;01mreturn\u001b[39;00m path\n",
      "File \u001b[0;32m~/miniconda3/envs/yt/lib/python3.10/genericpath.py:152\u001b[0m, in \u001b[0;36m_check_arg_types\u001b[0;34m(funcname, *args)\u001b[0m\n\u001b[1;32m    150\u001b[0m         hasbytes \u001b[38;5;241m=\u001b[39m \u001b[38;5;28;01mTrue\u001b[39;00m\n\u001b[1;32m    151\u001b[0m     \u001b[38;5;28;01melse\u001b[39;00m:\n\u001b[0;32m--> 152\u001b[0m         \u001b[38;5;28;01mraise\u001b[39;00m \u001b[38;5;167;01mTypeError\u001b[39;00m(\u001b[38;5;124mf\u001b[39m\u001b[38;5;124m'\u001b[39m\u001b[38;5;132;01m{\u001b[39;00mfuncname\u001b[38;5;132;01m}\u001b[39;00m\u001b[38;5;124m() argument must be str, bytes, or \u001b[39m\u001b[38;5;124m'\u001b[39m\n\u001b[1;32m    153\u001b[0m                         \u001b[38;5;124mf\u001b[39m\u001b[38;5;124m'\u001b[39m\u001b[38;5;124mos.PathLike object, not \u001b[39m\u001b[38;5;132;01m{\u001b[39;00ms\u001b[38;5;241m.\u001b[39m\u001b[38;5;18m__class__\u001b[39m\u001b[38;5;241m.\u001b[39m\u001b[38;5;18m__name__\u001b[39m\u001b[38;5;132;01m!r}\u001b[39;00m\u001b[38;5;124m'\u001b[39m) \u001b[38;5;28;01mfrom\u001b[39;00m \u001b[38;5;28;01mNone\u001b[39;00m\n\u001b[1;32m    154\u001b[0m \u001b[38;5;28;01mif\u001b[39;00m hasstr \u001b[38;5;129;01mand\u001b[39;00m hasbytes:\n\u001b[1;32m    155\u001b[0m     \u001b[38;5;28;01mraise\u001b[39;00m \u001b[38;5;167;01mTypeError\u001b[39;00m(\u001b[38;5;124m\"\u001b[39m\u001b[38;5;124mCan\u001b[39m\u001b[38;5;124m'\u001b[39m\u001b[38;5;124mt mix strings and bytes in path components\u001b[39m\u001b[38;5;124m\"\u001b[39m) \u001b[38;5;28;01mfrom\u001b[39;00m \u001b[38;5;28;01mNone\u001b[39;00m\n",
      "\u001b[0;31mTypeError\u001b[0m: join() argument must be str, bytes, or os.PathLike object, not 'NoneType'"
     ]
    }
   ],
   "source": [
    "converter.url2text(urlpath=urlpath, outfile=textfile, audioformat=\"flac\")"
   ]
  }
 ],
 "metadata": {
  "kernelspec": {
   "display_name": "yt",
   "language": "python",
   "name": "python3"
  },
  "language_info": {
   "codemirror_mode": {
    "name": "ipython",
    "version": 3
   },
   "file_extension": ".py",
   "mimetype": "text/x-python",
   "name": "python",
   "nbconvert_exporter": "python",
   "pygments_lexer": "ipython3",
   "version": "3.10.16"
  }
 },
 "nbformat": 4,
 "nbformat_minor": 4
}
