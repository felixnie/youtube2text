{
 "cells": [
  {
   "cell_type": "code",
   "execution_count": 6,
   "metadata": {},
   "outputs": [
    {
     "name": "stdout",
     "output_type": "stream",
     "text": [
      "2025-01-03 13:20:00 | INFO | [youtube2text.py:41] Youtube2Text content file saved at path ./\n"
     ]
    }
   ],
   "source": [
    "import sys\n",
    "sys.path.append(\"../src\")\n",
    "\n",
    "from youtube2text import Youtube2Text\n",
    "converter = Youtube2Text(r\"./\")"
   ]
  },
  {
   "cell_type": "code",
   "execution_count": 7,
   "metadata": {},
   "outputs": [
    {
     "name": "stdout",
     "output_type": "stream",
     "text": [
      "2025-01-03 13:20:00 | INFO | [youtube2text.py:165] Audio at sample rate 16000\n"
     ]
    },
    {
     "name": "stderr",
     "output_type": "stream",
     "text": [
      "ffmpeg version 7.1 Copyright (c) 2000-2024 the FFmpeg developers\n",
      "  built with Apple clang version 16.0.0 (clang-1600.0.26.4)\n",
      "  configuration: --prefix=/opt/homebrew/Cellar/ffmpeg/7.1_4 --enable-shared --enable-pthreads --enable-version3 --cc=clang --host-cflags= --host-ldflags='-Wl,-ld_classic' --enable-ffplay --enable-gnutls --enable-gpl --enable-libaom --enable-libaribb24 --enable-libbluray --enable-libdav1d --enable-libharfbuzz --enable-libjxl --enable-libmp3lame --enable-libopus --enable-librav1e --enable-librist --enable-librubberband --enable-libsnappy --enable-libsrt --enable-libssh --enable-libsvtav1 --enable-libtesseract --enable-libtheora --enable-libvidstab --enable-libvmaf --enable-libvorbis --enable-libvpx --enable-libwebp --enable-libx264 --enable-libx265 --enable-libxml2 --enable-libxvid --enable-lzma --enable-libfontconfig --enable-libfreetype --enable-frei0r --enable-libass --enable-libopencore-amrnb --enable-libopencore-amrwb --enable-libopenjpeg --enable-libspeex --enable-libsoxr --enable-libzmq --enable-libzimg --disable-libjack --disable-indev=jack --enable-videotoolbox --enable-audiotoolbox --enable-neon\n",
      "  libavutil      59. 39.100 / 59. 39.100\n",
      "  libavcodec     61. 19.100 / 61. 19.100\n",
      "  libavformat    61.  7.100 / 61.  7.100\n",
      "  libavdevice    61.  3.100 / 61.  3.100\n",
      "  libavfilter    10.  4.100 / 10.  4.100\n",
      "  libswscale      8.  3.100 /  8.  3.100\n",
      "  libswresample   5.  3.100 /  5.  3.100\n",
      "  libpostproc    58.  3.100 / 58.  3.100\n",
      "Input #0, mov,mp4,m4a,3gp,3g2,mj2, from 'https://rr1---sn-o0nbb52v2-npoe.googlevideo.com/videoplayback?expire=1735903200&ei=gHN3Z7WPIaC7ssUP1ferqAE&ip=137.132.26.75&id=o-AE5JqEXx1054iM3WS1vQ4rH8FVXe5LSwjFB32B5RKPl0&itag=18&source=youtube&requiressl=yes&xpc=EgVo2aDSNQ%3D%3D&met=1735881600%2C&mh=_q&mm=31%2C29&mn=sn-o0nbb52v2-npoe%2Csn-npoe7nl6&ms=au%2Crdu&mv=m&mvi=1&pcm2cms=yes&pl=24&rms=au%2Cau&initcwndbps=5933750&bui=AfMhrI-5nFSdX8-9mFO5I_urJ-T_8pR2nCJTQc0iqt9YUVQ2JjsNG_I9VkLorzbFXK5WotHFte8RE_1K&spc=x-caUBlXYE6XQQXKcqiujBD5&vprv=1&mime=video%2Fmp4&rqh=1&cnr=14&ratebypass=yes&dur=201.851&lmt=1735262757364221&mt=1735881170&fvip=2&fexp=51326932%2C51335594%2C51371294&c=ANDROID_VR&txp=5538434&sparams=expire%2Cei%2Cip%2Cid%2Citag%2Csource%2Crequiressl%2Cxpc%2Cbui%2Cspc%2Cvprv%2Cmime%2Crqh%2Ccnr%2Cratebypass%2Cdur%2Clmt&sig=AJfQdSswRQIgD18n2SEEJCGX6QrIpY2OwylgSlf_MbWC_QGR07kuakQCIQCs_MIyPvwbTWkXlR46eLqjYUl5AvLHkiEufbOluGiWww%3D%3D&lsparams=met%2Cmh%2Cmm%2Cmn%2Cms%2Cmv%2Cmvi%2Cpcm2cms%2Cpl%2Crms%2Cinitcwndbps&lsig=AGluJ3MwRQIhAIHQ5RB7EFCjDsJHL40LaxOf-Y-NhpufuhXR2rd3nDzpAiBNPywOXrXL6M5_QGvOa9A-2MUxi_5eOeB_sY3HJ6AQZQ%3D%3D':\n",
      "  Metadata:\n",
      "    major_brand     : mp42\n",
      "    minor_version   : 0\n",
      "    compatible_brands: isommp42\n",
      "    creation_time   : 2024-12-26T23:53:43.000000Z\n",
      "    encoder         : Google\n",
      "  Duration: 00:03:21.80, start: 0.000000, bitrate: 211 kb/s\n",
      "  Stream #0:0[0x1](und): Video: h264 (Main) (avc1 / 0x31637661), yuv420p(tv, bt709, progressive), 640x360 [SAR 1:1 DAR 16:9], 79 kb/s, 23.98 fps, 23.98 tbr, 24k tbn (default)\n",
      "      Metadata:\n",
      "        creation_time   : 2024-12-26T23:53:43.000000Z\n",
      "        handler_name    : ISO Media file produced by Google Inc. Created on: 12/26/2024.\n",
      "        vendor_id       : [0][0][0][0]\n",
      "  Stream #0:1[0x2](eng): Audio: aac (LC) (mp4a / 0x6134706D), 44100 Hz, stereo, fltp, 127 kb/s (default)\n",
      "      Metadata:\n",
      "        creation_time   : 2024-12-26T23:53:43.000000Z\n",
      "        handler_name    : ISO Media file produced by Google Inc. Created on: 12/26/2024.\n",
      "        vendor_id       : [0][0][0][0]\n",
      "Stream mapping:\n",
      "  Stream #0:0 -> #0:0 (h264 (native) -> png (native))\n",
      "  Stream #0:1 -> #0:1 (aac (native) -> flac (native))\n",
      "Press [q] to stop, [?] for help\n",
      "[flac @ 0x12876bc40] encoding as 24 bits-per-sample, more is considered experimental. Add -strict experimental if you want to encode more than 24 bits-per-sample\n",
      "[swscaler @ 0x130240000] [swscaler @ 0x138110000] No accelerated colorspace conversion found from yuv420p to rgb24.\n",
      "[swscaler @ 0x130240000] [swscaler @ 0x130250000] No accelerated colorspace conversion found from yuv420p to rgb24.\n",
      "[swscaler @ 0x130240000] [swscaler @ 0x130260000] No accelerated colorspace conversion found from yuv420p to rgb24.\n",
      "[swscaler @ 0x130240000] [swscaler @ 0x130270000] No accelerated colorspace conversion found from yuv420p to rgb24.\n",
      "[swscaler @ 0x130240000] [swscaler @ 0x130280000] No accelerated colorspace conversion found from yuv420p to rgb24.\n",
      "[swscaler @ 0x130240000] [swscaler @ 0x130290000] No accelerated colorspace conversion found from yuv420p to rgb24.\n",
      "[swscaler @ 0x130240000] [swscaler @ 0x1302a0000] No accelerated colorspace conversion found from yuv420p to rgb24.\n",
      "[swscaler @ 0x130240000] [swscaler @ 0x1302b0000] No accelerated colorspace conversion found from yuv420p to rgb24.\n",
      "[swscaler @ 0x130240000] [swscaler @ 0x1302c0000] No accelerated colorspace conversion found from yuv420p to rgb24.\n",
      "[flac @ 0x1287190c0] Video stream #0 is not an attached picture. Ignoring\n",
      "Output #0, flac, to 'pipe:':\n",
      "  Metadata:\n",
      "    major_brand     : mp42\n",
      "    minor_version   : 0\n",
      "    compatible_brands: isommp42\n",
      "    encoder         : Lavf61.7.100\n",
      "  Stream #0:0(und): Video: png, rgb24(pc, gbr/bt709/bt709, progressive), 640x360 [SAR 1:1 DAR 16:9], q=2-31, 200 kb/s, 23.98 fps, 23.98 tbn (default)\n",
      "      Metadata:\n",
      "        creation_time   : 2024-12-26T23:53:43.000000Z\n",
      "        handler_name    : ISO Media file produced by Google Inc. Created on: 12/26/2024.\n",
      "        vendor_id       : [0][0][0][0]\n",
      "        encoder         : Lavc61.19.100 png\n",
      "  Stream #0:1(eng): Audio: flac, 16000 Hz, stereo, s32 (24 bit), 128 kb/s (default)\n",
      "      Metadata:\n",
      "        creation_time   : 2024-12-26T23:53:43.000000Z\n",
      "        handler_name    : ISO Media file produced by Google Inc. Created on: 12/26/2024.\n",
      "        vendor_id       : [0][0][0][0]\n",
      "        encoder         : Lavc61.19.100 flac\n",
      "frame= 4582 fps=312 q=-0.0 size=   13165KiB time=00:03:11.10 bitrate= 564.3kbits/s speed=  13x    \r"
     ]
    },
    {
     "name": "stdout",
     "output_type": "stream",
     "text": [
      "2025-01-03 13:20:16 | INFO | [youtube2text.py:180] Download completed at ./audio/2025Jan03_132000.flac\n"
     ]
    },
    {
     "name": "stderr",
     "output_type": "stream",
     "text": [
      "[flac @ 0x1287190c0] unable to rewrite FLAC header.:03:20.86 bitrate= 556.6kbits/s speed=13.2x    \n",
      "[out#0/flac @ 0x128717230] video:705422KiB audio:13660KiB subtitle:0KiB other streams:0KiB global headers:0KiB muxing overhead: unknown\n",
      "frame= 4838 fps=318 q=-0.0 Lsize=   13668KiB time=00:03:21.78 bitrate= 554.9kbits/s speed=13.3x    \n"
     ]
    }
   ],
   "source": [
    "converter.url2audio(urlpath = \"https://www.youtube.com/watch?v=rFYcvrKkr90\")"
   ]
  },
  {
   "cell_type": "markdown",
   "metadata": {},
   "source": [
    "### Select output folder during youtube url -> text"
   ]
  },
  {
   "cell_type": "code",
   "execution_count": 8,
   "metadata": {},
   "outputs": [
    {
     "name": "stdout",
     "output_type": "stream",
     "text": [
      "sample.flac None ./audio\n",
      "2025-01-03 13:20:16 | INFO | [youtube2text.py:155] Audio file exist at ./audio/sample.flac. Download skipped\n",
      "2025-01-03 13:20:16 | INFO | [youtube2text.py:211] ./text/sample.csv exists. Conversion of speech -> text skipped\n"
     ]
    }
   ],
   "source": [
    "converter.url2text(urlpath = \"https://www.youtube.com/watch?v=Ad9Q8rM0Am0&t=114s\", outfile = \"sample.csv\", audioformat = \"flac\")"
   ]
  },
  {
   "cell_type": "markdown",
   "metadata": {},
   "source": [
    "### youtube to audio"
   ]
  },
  {
   "cell_type": "code",
   "execution_count": 9,
   "metadata": {},
   "outputs": [
    {
     "name": "stdout",
     "output_type": "stream",
     "text": [
      "2025-01-03 13:20:16 | INFO | [youtube2text.py:155] Audio file exist at ./simonsinek.flac. Download skipped\n"
     ]
    }
   ],
   "source": [
    "converter.url2audio(urlpath = \"https://www.youtube.com/watch?v=Ad9Q8rM0Am0&t=114s\", audiofile = r\"./simonsinek.flac\")"
   ]
  },
  {
   "cell_type": "markdown",
   "metadata": {},
   "source": [
    "### audio to text "
   ]
  },
  {
   "cell_type": "code",
   "execution_count": 10,
   "metadata": {},
   "outputs": [
    {
     "name": "stdout",
     "output_type": "stream",
     "text": [
      "2025-01-03 13:20:16 | INFO | [youtube2text.py:277] Audio -> Text: ./simonsinek.flac\n",
      "2025-01-03 13:21:27 | INFO | [youtube2text.py:251] Output text file saved at ./simonsinek.csv\n"
     ]
    }
   ],
   "source": [
    "converter.audio2text(audiofile = r\"./simonsinek.flac\", textfile = r\"./simonsinek.csv\")"
   ]
  },
  {
   "cell_type": "code",
   "execution_count": 11,
   "metadata": {},
   "outputs": [
    {
     "name": "stdout",
     "output_type": "stream",
     "text": [
      "2025-01-03 13:21:27 | INFO | [youtube2text.py:165] Audio at sample rate 22000\n"
     ]
    },
    {
     "name": "stderr",
     "output_type": "stream",
     "text": [
      "ffmpeg version 7.1 Copyright (c) 2000-2024 the FFmpeg developers\n",
      "  built with Apple clang version 16.0.0 (clang-1600.0.26.4)\n",
      "  configuration: --prefix=/opt/homebrew/Cellar/ffmpeg/7.1_4 --enable-shared --enable-pthreads --enable-version3 --cc=clang --host-cflags= --host-ldflags='-Wl,-ld_classic' --enable-ffplay --enable-gnutls --enable-gpl --enable-libaom --enable-libaribb24 --enable-libbluray --enable-libdav1d --enable-libharfbuzz --enable-libjxl --enable-libmp3lame --enable-libopus --enable-librav1e --enable-librist --enable-librubberband --enable-libsnappy --enable-libsrt --enable-libssh --enable-libsvtav1 --enable-libtesseract --enable-libtheora --enable-libvidstab --enable-libvmaf --enable-libvorbis --enable-libvpx --enable-libwebp --enable-libx264 --enable-libx265 --enable-libxml2 --enable-libxvid --enable-lzma --enable-libfontconfig --enable-libfreetype --enable-frei0r --enable-libass --enable-libopencore-amrnb --enable-libopencore-amrwb --enable-libopenjpeg --enable-libspeex --enable-libsoxr --enable-libzmq --enable-libzimg --disable-libjack --disable-indev=jack --enable-videotoolbox --enable-audiotoolbox --enable-neon\n",
      "  libavutil      59. 39.100 / 59. 39.100\n",
      "  libavcodec     61. 19.100 / 61. 19.100\n",
      "  libavformat    61.  7.100 / 61.  7.100\n",
      "  libavdevice    61.  3.100 / 61.  3.100\n",
      "  libavfilter    10.  4.100 / 10.  4.100\n",
      "  libswscale      8.  3.100 /  8.  3.100\n",
      "  libswresample   5.  3.100 /  5.  3.100\n",
      "  libpostproc    58.  3.100 / 58.  3.100\n",
      "Input #0, mov,mp4,m4a,3gp,3g2,mj2, from 'https://rr1---sn-o0nbb52v2-npoe.googlevideo.com/videoplayback?expire=1735903287&ei=13N3Z7D5LrmBg8UP4rqgkAI&ip=137.132.26.75&id=o-AIGqbvFGOMZGvIkfWjnmaBV3y_WopEoJPl5C5jkjvuol&itag=18&source=youtube&requiressl=yes&xpc=EgVo2aDSNQ%3D%3D&met=1735881687%2C&mh=km&mm=31%2C29&mn=sn-o0nbb52v2-npoe%2Csn-npoldn7z&ms=au%2Crdu&mv=m&mvi=1&pl=24&rms=au%2Cau&initcwndbps=5933750&bui=AfMhrI8-6gNAxR6Goi-rhC5WQUzElGVlNVUNvBDCOkkEgXAI4snpra31dh_VJB1GXO8Z173q_VV19cST&spc=x-caULTzVEJdD9PUhBwU4HeG&vprv=1&mime=video%2Fmp4&rqh=1&cnr=14&ratebypass=yes&dur=216.944&lmt=1664119208430525&mt=1735881170&fvip=4&fexp=51326932%2C51335594%2C51371294&c=ANDROID_VR&txp=5538434&sparams=expire%2Cei%2Cip%2Cid%2Citag%2Csource%2Crequiressl%2Cxpc%2Cbui%2Cspc%2Cvprv%2Cmime%2Crqh%2Ccnr%2Cratebypass%2Cdur%2Clmt&sig=AJfQdSswRgIhAKufPA5sgVVrtZWwLeoWHXLmiJvCXU1mnVI6EVUbb0yfAiEA010vnHxtqAuuJxZ4J_CRFVTq5liswpG1SbUzEfHCVjM%3D&lsparams=met%2Cmh%2Cmm%2Cmn%2Cms%2Cmv%2Cmvi%2Cpl%2Crms%2Cinitcwndbps&lsig=AGluJ3MwRQIgYEAVhFWH5YuYPCWAB1uki1PXl5mMkSy9yCUcRNSE6BsCIQC3c06FqGLFlMv0YNmjb7kimezuCqZ-TkX_padM_awthQ%3D%3D':\n",
      "  Metadata:\n",
      "    major_brand     : mp42\n",
      "    minor_version   : 0\n",
      "    compatible_brands: isommp42\n",
      "    creation_time   : 2021-04-10T22:14:06.000000Z\n",
      "  Duration: 00:03:36.90, start: 0.000000, bitrate: 223 kb/s\n",
      "  Stream #0:0[0x1](und): Video: h264 (Main) (avc1 / 0x31637661), yuv420p(tv, bt709, progressive), 640x360 [SAR 1:1 DAR 16:9], 91 kb/s, 24 fps, 24 tbr, 12288 tbn (default)\n",
      "      Metadata:\n",
      "        creation_time   : 2021-04-10T22:14:06.000000Z\n",
      "        handler_name    : ISO Media file produced by Google Inc. Created on: 04/10/2021.\n",
      "        vendor_id       : [0][0][0][0]\n",
      "  Stream #0:1[0x2](und): Audio: aac (LC) (mp4a / 0x6134706D), 44100 Hz, stereo, fltp, 128 kb/s (default)\n",
      "      Metadata:\n",
      "        creation_time   : 2021-04-10T22:14:06.000000Z\n",
      "        handler_name    : ISO Media file produced by Google Inc. Created on: 04/10/2021.\n",
      "        vendor_id       : [0][0][0][0]\n",
      "Stream mapping:\n",
      "  Stream #0:0 -> #0:0 (h264 (native) -> png (native))\n",
      "  Stream #0:1 -> #0:1 (aac (native) -> flac (native))\n",
      "Press [q] to stop, [?] for help\n",
      "[flac @ 0x10f084ec0] encoding as 24 bits-per-sample, more is considered experimental. Add -strict experimental if you want to encode more than 24 bits-per-sample\n",
      "[swscaler @ 0x1381c8000] [swscaler @ 0x140060000] No accelerated colorspace conversion found from yuv420p to rgb24.\n",
      "[swscaler @ 0x1381c8000] [swscaler @ 0x140070000] No accelerated colorspace conversion found from yuv420p to rgb24.\n",
      "[swscaler @ 0x1381c8000] [swscaler @ 0x140080000] No accelerated colorspace conversion found from yuv420p to rgb24.\n",
      "[swscaler @ 0x1381c8000] [swscaler @ 0x140090000] No accelerated colorspace conversion found from yuv420p to rgb24.\n",
      "[swscaler @ 0x1381c8000] [swscaler @ 0x1400a0000] No accelerated colorspace conversion found from yuv420p to rgb24.\n",
      "[swscaler @ 0x1381c8000] [swscaler @ 0x1400b0000] No accelerated colorspace conversion found from yuv420p to rgb24.\n",
      "[swscaler @ 0x1381c8000] [swscaler @ 0x128288000] No accelerated colorspace conversion found from yuv420p to rgb24.\n",
      "[swscaler @ 0x1381c8000] [swscaler @ 0x128298000] No accelerated colorspace conversion found from yuv420p to rgb24.\n",
      "[swscaler @ 0x1381c8000] [swscaler @ 0x1282a8000] No accelerated colorspace conversion found from yuv420p to rgb24.\n",
      "[flac @ 0x10f038e90] Video stream #0 is not an attached picture. Ignoring\n",
      "Output #0, flac, to 'pipe:':\n",
      "  Metadata:\n",
      "    major_brand     : mp42\n",
      "    minor_version   : 0\n",
      "    compatible_brands: isommp42\n",
      "    encoder         : Lavf61.7.100\n",
      "  Stream #0:0(und): Video: png, rgb24(pc, gbr/bt709/bt709, progressive), 640x360 [SAR 1:1 DAR 16:9], q=2-31, 200 kb/s, 24 fps, 24 tbn (default)\n",
      "      Metadata:\n",
      "        creation_time   : 2021-04-10T22:14:06.000000Z\n",
      "        handler_name    : ISO Media file produced by Google Inc. Created on: 04/10/2021.\n",
      "        vendor_id       : [0][0][0][0]\n",
      "        encoder         : Lavc61.19.100 png\n",
      "  Stream #0:1(und): Audio: flac, 22000 Hz, stereo, s32 (24 bit), 128 kb/s (default)\n",
      "      Metadata:\n",
      "        creation_time   : 2021-04-10T22:14:06.000000Z\n",
      "        handler_name    : ISO Media file produced by Google Inc. Created on: 04/10/2021.\n",
      "        vendor_id       : [0][0][0][0]\n",
      "        encoder         : Lavc61.19.100 flac\n",
      "frame= 4948 fps=393 q=-0.0 size=    8628KiB time=00:03:26.16 bitrate= 342.8kbits/s speed=16.4x    \r"
     ]
    },
    {
     "name": "stdout",
     "output_type": "stream",
     "text": [
      "2025-01-03 13:21:41 | INFO | [youtube2text.py:180] Download completed at ./simonsinek_.flac\n"
     ]
    },
    {
     "name": "stderr",
     "output_type": "stream",
     "text": [
      "[flac @ 0x10f038e90] unable to rewrite FLAC header.:03:33.08 bitrate= 342.3kbits/s speed=16.3x    \n",
      "[out#0/flac @ 0x10f02f5e0] video:517406KiB audio:9153KiB subtitle:0KiB other streams:0KiB global headers:0KiB muxing overhead: unknown\n",
      "frame= 5205 fps=394 q=-0.0 Lsize=    9161KiB time=00:03:36.87 bitrate= 346.0kbits/s speed=16.4x    \n"
     ]
    }
   ],
   "source": [
    "converter.url2audio(urlpath = \"https://www.youtube.com/watch?v=Ad9Q8rM0Am0&t=114s\", audiofile = r\"./simonsinek_.flac\", audiosamplingrate = 22000)"
   ]
  }
 ],
 "metadata": {
  "kernelspec": {
   "display_name": "yt",
   "language": "python",
   "name": "python3"
  },
  "language_info": {
   "codemirror_mode": {
    "name": "ipython",
    "version": 3
   },
   "file_extension": ".py",
   "mimetype": "text/x-python",
   "name": "python",
   "nbconvert_exporter": "python",
   "pygments_lexer": "ipython3",
   "version": "3.10.16"
  }
 },
 "nbformat": 4,
 "nbformat_minor": 4
}
